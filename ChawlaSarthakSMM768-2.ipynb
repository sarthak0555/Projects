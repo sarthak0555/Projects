{
  "cells": [
    {
      "cell_type": "markdown",
      "metadata": {
        "id": "ubfGqe3BPFUG"
      },
      "source": [
        "**Question 1**\n",
        "\n",
        "The most sensible approach for predicting the operating mode of a turbine based on the two sensor reading time series would be a sequence-to-vector approach. This is because we have two time series inputs (time_series_1 and time_series_2), and we want to predict a single output (operating mode) for each time series pair.\n",
        "\n",
        "\n",
        "For this approach, we could use a combination of 1D convolutional layers (Conv1D) and recurrent layers (such as LSTM or GRU) to capture the patterns in the time series data. The final output of the model would be a dense layer with softmax activation to predict the operating mode (0, 1, 2, or 3).\n",
        "\n",
        "\n"
      ]
    },
    {
      "cell_type": "markdown",
      "metadata": {
        "id": "WZTv-GyHYLyV"
      },
      "source": [
        "**Question 2**"
      ]
    },
    {
      "cell_type": "code",
      "execution_count": null,
      "metadata": {
        "id": "R_xAiF9fp47y"
      },
      "outputs": [],
      "source": [
        "import pandas as np\n",
        "import numpy as np\n",
        "import matplotlib.pyplot as plt\n",
        "import seaborn as sns\n",
        "import pickle\n",
        "import tensorflow as tf\n",
        "from sklearn.model_selection import train_test_split\n",
        "from tensorflow.keras.callbacks import ModelCheckpoint, EarlyStopping"
      ]
    },
    {
      "cell_type": "code",
      "execution_count": null,
      "metadata": {
        "id": "3Q-2zLAAnKH3"
      },
      "outputs": [],
      "source": [
        "with open('/time_series_1.pickle', 'rb') as handle:\n",
        "  time_series_1 = pickle.load(handle)\n",
        "\n",
        "with open('/time_series_2.pickle', 'rb') as handle:\n",
        "  time_series_2 = pickle.load(handle)\n",
        "\n",
        "with open('/y.pickle', 'rb') as handle:\n",
        "  y = pickle. load(handle)"
      ]
    },
    {
      "cell_type": "code",
      "execution_count": null,
      "metadata": {
        "colab": {
          "base_uri": "https://localhost:8080/"
        },
        "id": "tNl0FnulqRqZ",
        "outputId": "f09213a3-6c33-4252-8c7a-1f71add00ab7"
      },
      "outputs": [
        {
          "data": {
            "text/plain": [
              "array([[30, 29, 29, ..., 36, 35, 50],\n",
              "       [31, 31, 30, ..., 37, 32, 31],\n",
              "       [28, 28, 28, ..., 40, 29, 38],\n",
              "       ...,\n",
              "       [28, 28, 28, ..., 38, 28, 36],\n",
              "       [28, 28, 29, ..., 31, 36, 51],\n",
              "       [31, 31, 30, ..., 35, 38, 24]], dtype=uint8)"
            ]
          },
          "execution_count": 5,
          "metadata": {},
          "output_type": "execute_result"
        }
      ],
      "source": [
        "time_series_1"
      ]
    },
    {
      "cell_type": "code",
      "execution_count": null,
      "metadata": {
        "colab": {
          "base_uri": "https://localhost:8080/"
        },
        "id": "gVEJ96bVqe6c",
        "outputId": "73baab6e-e510-4dc0-8504-85c4d76e7c94"
      },
      "outputs": [
        {
          "data": {
            "text/plain": [
              "array([[84, 72, 93, ...,  2,  2,  1],\n",
              "       [71, 83, 81, ...,  1,  1,  1],\n",
              "       [78, 71, 82, ...,  0,  0,  0],\n",
              "       ...,\n",
              "       [83, 72, 95, ...,  0,  0,  0],\n",
              "       [84, 68, 92, ...,  1,  0,  0],\n",
              "       [81, 71, 98, ...,  0,  0,  0]], dtype=uint8)"
            ]
          },
          "execution_count": 6,
          "metadata": {},
          "output_type": "execute_result"
        }
      ],
      "source": [
        "time_series_2"
      ]
    },
    {
      "cell_type": "code",
      "execution_count": null,
      "metadata": {
        "colab": {
          "base_uri": "https://localhost:8080/"
        },
        "id": "sd46sjGSqkTk",
        "outputId": "a6a8cd3b-95df-4deb-86fe-ca80634d501f"
      },
      "outputs": [
        {
          "data": {
            "text/plain": [
              "array([1., 2., 3., ..., 3., 3., 1.])"
            ]
          },
          "execution_count": 7,
          "metadata": {},
          "output_type": "execute_result"
        }
      ],
      "source": [
        "y"
      ]
    },
    {
      "cell_type": "code",
      "execution_count": null,
      "metadata": {
        "id": "H6lIoXam4CnO"
      },
      "outputs": [],
      "source": [
        "\n",
        "# Combine time series data\n",
        "X = np.stack((time_series_1, time_series_2), axis=-1)\n",
        "\n",
        "# Convert y to one-hot encoding\n",
        "y = tf.keras.utils.to_categorical(y, num_classes=4)\n"
      ]
    },
    {
      "cell_type": "code",
      "execution_count": null,
      "metadata": {
        "id": "HK8fpxXbDl_w"
      },
      "outputs": [],
      "source": [
        "# Split the data into train and test sets\n",
        "X_train, X_test, y_train, y_test = train_test_split(X, y, test_size=0.2, random_state=42, stratify = y)"
      ]
    },
    {
      "cell_type": "code",
      "execution_count": null,
      "metadata": {
        "id": "gp7--14lDwoo"
      },
      "outputs": [],
      "source": [
        "# Define batch size and shuffle buffer size\n",
        "batch_size = 32\n",
        "shuffle_buffer_size = len(y_train)"
      ]
    },
    {
      "cell_type": "code",
      "execution_count": null,
      "metadata": {
        "id": "sTu0OpHfDpLr"
      },
      "outputs": [],
      "source": [
        "# Create a TensorFlow dataset from the train set\n",
        "train_dataset = tf.data.Dataset.from_tensor_slices((X_train, y_train))\n",
        "train_dataset = train_dataset.shuffle(shuffle_buffer_size).batch(batch_size)\n",
        "\n",
        "# Create a TensorFlow dataset from the test set\n",
        "test_dataset = tf.data.Dataset.from_tensor_slices((X_test, y_test))\n",
        "test_dataset = test_dataset.batch(batch_size)"
      ]
    },
    {
      "cell_type": "markdown",
      "metadata": {
        "id": "P3FdkN4eQH28"
      },
      "source": [
        "## **Baseline Model**"
      ]
    },
    {
      "cell_type": "code",
      "execution_count": null,
      "metadata": {
        "id": "w1hOQXxus0gz"
      },
      "outputs": [],
      "source": [
        "model = tf.keras.Sequential([\n",
        "    tf.keras.layers.Conv1D(filters=32, kernel_size=5, activation='relu', input_shape=(5000, 2)),\n",
        "    tf.keras.layers.SimpleRNN(units=64, dropout=0.2, recurrent_dropout=0.2, return_sequences=True),\n",
        "    tf.keras.layers.GRU(units=64, dropout=0.2, recurrent_dropout=0.2),\n",
        "    tf.keras.layers.Dense(64, activation='relu'),\n",
        "    tf.keras.layers.Dense(4, activation='softmax')\n",
        "])\n",
        "\n",
        "model.compile(loss='categorical_crossentropy',\n",
        "              optimizer='adam',\n",
        "              metrics=['accuracy'])\n",
        "\n",
        "# For creating the checkpoint for out model so that we can save the optimal model.\n",
        "filepath=\"/content/drive/MyDrive/workspace/sarthak/baseline_model.hdf5\"\n",
        "\n",
        "checkpoint = ModelCheckpoint(filepath=filepath, monitor='val_loss', verbose=1, save_best_only=True, mode='auto')\n",
        "\n",
        "callbacks_list = [checkpoint]"
      ]
    },
    {
      "cell_type": "code",
      "execution_count": null,
      "metadata": {
        "colab": {
          "base_uri": "https://localhost:8080/"
        },
        "id": "Ot5c_qUds3cS",
        "outputId": "cc979096-5aee-4503-f83f-625bc26f4269"
      },
      "outputs": [
        {
          "name": "stdout",
          "output_type": "stream",
          "text": [
            "Epoch 1/10\n",
            "100/100 [==============================] - ETA: 0s - loss: 1.3843 - accuracy: 0.2853 \n",
            "Epoch 1: val_loss improved from inf to 1.33122, saving model to /content/drive/MyDrive/workspace/sarthak/baseline_model.hdf5\n",
            "100/100 [==============================] - 1614s 16s/step - loss: 1.3843 - accuracy: 0.2853 - val_loss: 1.3312 - val_accuracy: 0.3663\n",
            "Epoch 2/10\n",
            "100/100 [==============================] - ETA: 0s - loss: 1.3459 - accuracy: 0.3319 \n",
            "Epoch 2: val_loss improved from 1.33122 to 1.26288, saving model to /content/drive/MyDrive/workspace/sarthak/baseline_model.hdf5\n",
            "100/100 [==============================] - 1622s 16s/step - loss: 1.3459 - accuracy: 0.3319 - val_loss: 1.2629 - val_accuracy: 0.4425\n",
            "Epoch 3/10\n",
            "100/100 [==============================] - ETA: 0s - loss: 1.3080 - accuracy: 0.3731 \n",
            "Epoch 3: val_loss improved from 1.26288 to 1.20639, saving model to /content/drive/MyDrive/workspace/sarthak/baseline_model.hdf5\n",
            "100/100 [==============================] - 1620s 16s/step - loss: 1.3080 - accuracy: 0.3731 - val_loss: 1.2064 - val_accuracy: 0.4638\n",
            "Epoch 4/10\n",
            "100/100 [==============================] - ETA: 0s - loss: 1.2450 - accuracy: 0.4347 \n",
            "Epoch 4: val_loss improved from 1.20639 to 1.14991, saving model to /content/drive/MyDrive/workspace/sarthak/baseline_model.hdf5\n",
            "100/100 [==============================] - 1609s 16s/step - loss: 1.2450 - accuracy: 0.4347 - val_loss: 1.1499 - val_accuracy: 0.4825\n",
            "Epoch 5/10\n",
            "100/100 [==============================] - ETA: 0s - loss: 1.1639 - accuracy: 0.4737 \n",
            "Epoch 5: val_loss improved from 1.14991 to 1.04266, saving model to /content/drive/MyDrive/workspace/sarthak/baseline_model.hdf5\n",
            "100/100 [==============================] - 1570s 16s/step - loss: 1.1639 - accuracy: 0.4737 - val_loss: 1.0427 - val_accuracy: 0.5450\n",
            "Epoch 6/10\n",
            "100/100 [==============================] - ETA: 0s - loss: 1.0952 - accuracy: 0.5147 \n",
            "Epoch 6: val_loss improved from 1.04266 to 1.02201, saving model to /content/drive/MyDrive/workspace/sarthak/baseline_model.hdf5\n",
            "100/100 [==============================] - 1579s 16s/step - loss: 1.0952 - accuracy: 0.5147 - val_loss: 1.0220 - val_accuracy: 0.5725\n",
            "Epoch 7/10\n",
            "100/100 [==============================] - ETA: 0s - loss: 1.0330 - accuracy: 0.5447 \n",
            "Epoch 7: val_loss improved from 1.02201 to 0.91828, saving model to /content/drive/MyDrive/workspace/sarthak/baseline_model.hdf5\n",
            "100/100 [==============================] - 1579s 16s/step - loss: 1.0330 - accuracy: 0.5447 - val_loss: 0.9183 - val_accuracy: 0.5962\n",
            "Epoch 8/10\n",
            "100/100 [==============================] - ETA: 0s - loss: 0.9453 - accuracy: 0.5878 \n",
            "Epoch 8: val_loss improved from 0.91828 to 0.80428, saving model to /content/drive/MyDrive/workspace/sarthak/baseline_model.hdf5\n",
            "100/100 [==============================] - 1567s 16s/step - loss: 0.9453 - accuracy: 0.5878 - val_loss: 0.8043 - val_accuracy: 0.6637\n",
            "Epoch 9/10\n",
            "100/100 [==============================] - ETA: 0s - loss: 0.8707 - accuracy: 0.6309 \n",
            "Epoch 9: val_loss improved from 0.80428 to 0.73519, saving model to /content/drive/MyDrive/workspace/sarthak/baseline_model.hdf5\n",
            "100/100 [==============================] - 1568s 16s/step - loss: 0.8707 - accuracy: 0.6309 - val_loss: 0.7352 - val_accuracy: 0.6750\n",
            "Epoch 10/10\n",
            "100/100 [==============================] - ETA: 0s - loss: 0.7959 - accuracy: 0.6634 \n",
            "Epoch 10: val_loss did not improve from 0.73519\n",
            "100/100 [==============================] - 1586s 16s/step - loss: 0.7959 - accuracy: 0.6634 - val_loss: 0.8038 - val_accuracy: 0.6612\n"
          ]
        }
      ],
      "source": [
        "history = model.fit(train_dataset, epochs=10, validation_data=test_dataset, verbose=1, callbacks=callbacks_list)"
      ]
    },
    {
      "cell_type": "code",
      "execution_count": null,
      "metadata": {
        "colab": {
          "base_uri": "https://localhost:8080/"
        },
        "id": "rPTmXI7TTWps",
        "outputId": "bff35e81-c0f3-47af-c730-2d9ca283c7d9"
      },
      "outputs": [
        {
          "name": "stdout",
          "output_type": "stream",
          "text": [
            "25/25 [==============================] - 35s 1s/step - loss: 0.8038 - accuracy: 0.6612\n",
            "Test accuracy 0.6612499952316284\n",
            "Test loss 0.803802490234375\n"
          ]
        }
      ],
      "source": [
        "test_loss, test_acc = model.evaluate(test_dataset)\n",
        "print('Test accuracy', test_acc)\n",
        "print('Test loss', test_loss)"
      ]
    },
    {
      "cell_type": "markdown",
      "metadata": {
        "id": "VaKLQL1iZfOu"
      },
      "source": [
        "**Question 3**"
      ]
    },
    {
      "cell_type": "code",
      "execution_count": null,
      "metadata": {
        "id": "mmDRWB77Xy3L"
      },
      "outputs": [],
      "source": [
        "import pandas as np\n",
        "import numpy as np\n",
        "import matplotlib.pyplot as plt\n",
        "import seaborn as sns\n",
        "import pickle"
      ]
    },
    {
      "cell_type": "code",
      "execution_count": null,
      "metadata": {
        "id": "Nj-5HWl5Xy3L"
      },
      "outputs": [],
      "source": [
        "with open('/time_series_1.pickle', 'rb') as handle:\n",
        "  time_series_1 = pickle.load(handle)\n",
        "\n",
        "with open('/time_series_2.pickle', 'rb') as handle:\n",
        "  time_series_2 = pickle.load(handle)\n",
        "\n",
        "with open('/y.pickle', 'rb') as handle:\n",
        "  y = pickle. load(handle)"
      ]
    },
    {
      "cell_type": "code",
      "execution_count": null,
      "metadata": {
        "colab": {
          "base_uri": "https://localhost:8080/"
        },
        "id": "RPL-kDK-Xy3M",
        "outputId": "cce67820-83b6-4f42-90db-25c1093bcdcd"
      },
      "outputs": [
        {
          "data": {
            "text/plain": [
              "array([[30, 29, 29, ..., 36, 35, 50],\n",
              "       [31, 31, 30, ..., 37, 32, 31],\n",
              "       [28, 28, 28, ..., 40, 29, 38],\n",
              "       ...,\n",
              "       [28, 28, 28, ..., 38, 28, 36],\n",
              "       [28, 28, 29, ..., 31, 36, 51],\n",
              "       [31, 31, 30, ..., 35, 38, 24]], dtype=uint8)"
            ]
          },
          "execution_count": 7,
          "metadata": {},
          "output_type": "execute_result"
        }
      ],
      "source": [
        "time_series_1"
      ]
    },
    {
      "cell_type": "code",
      "execution_count": null,
      "metadata": {
        "colab": {
          "base_uri": "https://localhost:8080/"
        },
        "id": "-fGMjHT1Xy3M",
        "outputId": "28d8fe14-582b-46ed-c7ac-af80ea328ac5"
      },
      "outputs": [
        {
          "data": {
            "text/plain": [
              "array([[84, 72, 93, ...,  2,  2,  1],\n",
              "       [71, 83, 81, ...,  1,  1,  1],\n",
              "       [78, 71, 82, ...,  0,  0,  0],\n",
              "       ...,\n",
              "       [83, 72, 95, ...,  0,  0,  0],\n",
              "       [84, 68, 92, ...,  1,  0,  0],\n",
              "       [81, 71, 98, ...,  0,  0,  0]], dtype=uint8)"
            ]
          },
          "execution_count": 8,
          "metadata": {},
          "output_type": "execute_result"
        }
      ],
      "source": [
        "time_series_2"
      ]
    },
    {
      "cell_type": "code",
      "execution_count": null,
      "metadata": {
        "colab": {
          "base_uri": "https://localhost:8080/"
        },
        "id": "w3q5ApzwXy3M",
        "outputId": "1fe25b65-396e-46e4-9845-ab47235ecc65"
      },
      "outputs": [
        {
          "data": {
            "text/plain": [
              "array([1., 2., 3., ..., 3., 3., 1.])"
            ]
          },
          "execution_count": 9,
          "metadata": {},
          "output_type": "execute_result"
        }
      ],
      "source": [
        "y"
      ]
    },
    {
      "cell_type": "code",
      "execution_count": null,
      "metadata": {
        "id": "TETfegStsvfu"
      },
      "outputs": [],
      "source": [
        "import tensorflow as tf\n",
        "import numpy as np\n",
        "from sklearn.model_selection import train_test_split\n",
        "\n",
        "# Combine time series data\n",
        "X = np.stack((time_series_1, time_series_2), axis=-1)\n",
        "\n",
        "# Convert y to one-hot encoding\n",
        "y = tf.keras.utils.to_categorical(y, num_classes=4)"
      ]
    },
    {
      "cell_type": "code",
      "execution_count": null,
      "metadata": {
        "id": "SYGHwaD1Xy3N"
      },
      "outputs": [],
      "source": [
        "# Split the data into train and test sets\n",
        "X_train, X_test, y_train, y_test = train_test_split(X, y, test_size=0.2, random_state=42, stratify = y)"
      ]
    },
    {
      "cell_type": "code",
      "execution_count": null,
      "metadata": {
        "id": "6GWxILh4Xy3N"
      },
      "outputs": [],
      "source": [
        "# Define batch size and shuffle buffer size\n",
        "batch_size = 32\n",
        "shuffle_buffer_size = len(y_train)"
      ]
    },
    {
      "cell_type": "code",
      "execution_count": null,
      "metadata": {
        "id": "nHtd-3rwXy3N"
      },
      "outputs": [],
      "source": [
        "# Create a TensorFlow dataset from the train set\n",
        "train_dataset = tf.data.Dataset.from_tensor_slices((X_train, y_train))\n",
        "train_dataset = train_dataset.shuffle(shuffle_buffer_size).batch(batch_size)\n",
        "\n",
        "# Create a TensorFlow dataset from the test set\n",
        "test_dataset = tf.data.Dataset.from_tensor_slices((X_test, y_test))\n",
        "test_dataset = test_dataset.batch(batch_size)"
      ]
    },
    {
      "cell_type": "code",
      "execution_count": null,
      "metadata": {
        "id": "2nt8CpyoXy3O"
      },
      "outputs": [],
      "source": [
        "from tensorflow.keras.callbacks import ModelCheckpoint, EarlyStopping\n",
        "\n",
        "model = tf.keras.Sequential([\n",
        "    tf.keras.layers.Conv1D(filters=32, kernel_size=5, activation='relu', input_shape=(5000, 2)),\n",
        "    tf.keras.layers.BatchNormalization(),\n",
        "    tf.keras.layers.MaxPooling1D(pool_size=2),\n",
        "    tf.keras.layers.Dropout(0.2),\n",
        "    tf.keras.layers.SimpleRNN(units=64, dropout=0.2, recurrent_dropout=0.2, return_sequences=True),\n",
        "    tf.keras.layers.LSTM(units=128, dropout=0.2, recurrent_dropout=0.2, return_sequences=True),\n",
        "    tf.keras.layers.GRU(units=64, dropout=0.2, recurrent_dropout=0.2),\n",
        "    tf.keras.layers.Dense(64, activation='relu'),\n",
        "    tf.keras.layers.Dropout(0.2),\n",
        "    tf.keras.layers.Dense(32, activation='relu'),\n",
        "    tf.keras.layers.Dense(4, activation='softmax')\n",
        "])\n",
        "\n",
        "model.compile(loss='categorical_crossentropy',\n",
        "              optimizer='adam',\n",
        "              metrics=['accuracy'])\n",
        "\n",
        "# For creating the checkpoint for out model so that we can save the optimal model.\n",
        "filepath=\"/content/drive/MyDrive/workspace/sarthak/complex_model.hdf5\"\n",
        "\n",
        "checkpoint = ModelCheckpoint(filepath=filepath, monitor='val_loss', verbose=1, save_best_only=True, mode='min')\n",
        "early_stop = EarlyStopping(monitor=\"val_loss\", patience=5, mode=\"min\", verbose=1, restore_best_weights=True)\n",
        "\n",
        "callbacks_list = [checkpoint, early_stop]"
      ]
    },
    {
      "cell_type": "code",
      "execution_count": null,
      "metadata": {
        "colab": {
          "base_uri": "https://localhost:8080/"
        },
        "id": "d243B1o8Xy3O",
        "outputId": "0d5f9ccd-3d40-4b06-cf7f-29a2c131e8bc"
      },
      "outputs": [
        {
          "name": "stdout",
          "output_type": "stream",
          "text": [
            "Epoch 1/10\n",
            "100/100 [==============================] - ETA: 0s - loss: 1.3863 - accuracy: 0.2681 \n",
            "Epoch 1: val_loss improved from inf to 1.38808, saving model to /content/drive/MyDrive/workspace/sarthak/complex_model.hdf5\n",
            "100/100 [==============================] - 1184s 12s/step - loss: 1.3863 - accuracy: 0.2681 - val_loss: 1.3881 - val_accuracy: 0.2500\n",
            "Epoch 2/10\n",
            "100/100 [==============================] - ETA: 0s - loss: 1.3631 - accuracy: 0.3063 \n",
            "Epoch 2: val_loss did not improve from 1.38808\n",
            "100/100 [==============================] - 1167s 12s/step - loss: 1.3631 - accuracy: 0.3063 - val_loss: 1.3992 - val_accuracy: 0.2600\n",
            "Epoch 3/10\n",
            "100/100 [==============================] - ETA: 0s - loss: 1.3098 - accuracy: 0.3606 \n",
            "Epoch 3: val_loss improved from 1.38808 to 1.32165, saving model to /content/drive/MyDrive/workspace/sarthak/complex_model.hdf5\n",
            "100/100 [==============================] - 1167s 12s/step - loss: 1.3098 - accuracy: 0.3606 - val_loss: 1.3216 - val_accuracy: 0.3300\n",
            "Epoch 4/10\n",
            "100/100 [==============================] - ETA: 0s - loss: 1.2324 - accuracy: 0.4294 \n",
            "Epoch 4: val_loss improved from 1.32165 to 1.14906, saving model to /content/drive/MyDrive/workspace/sarthak/complex_model.hdf5\n",
            "100/100 [==============================] - 1163s 12s/step - loss: 1.2324 - accuracy: 0.4294 - val_loss: 1.1491 - val_accuracy: 0.4613\n",
            "Epoch 5/10\n",
            "100/100 [==============================] - ETA: 0s - loss: 1.1649 - accuracy: 0.4638 \n",
            "Epoch 5: val_loss improved from 1.14906 to 1.08229, saving model to /content/drive/MyDrive/workspace/sarthak/complex_model.hdf5\n",
            "100/100 [==============================] - 1177s 12s/step - loss: 1.1649 - accuracy: 0.4638 - val_loss: 1.0823 - val_accuracy: 0.5063\n",
            "Epoch 6/10\n",
            "100/100 [==============================] - ETA: 0s - loss: 1.1056 - accuracy: 0.5034 \n",
            "Epoch 6: val_loss improved from 1.08229 to 0.92255, saving model to /content/drive/MyDrive/workspace/sarthak/complex_model.hdf5\n",
            "100/100 [==============================] - 1197s 12s/step - loss: 1.1056 - accuracy: 0.5034 - val_loss: 0.9226 - val_accuracy: 0.6100\n",
            "Epoch 7/10\n",
            "100/100 [==============================] - ETA: 0s - loss: 1.0274 - accuracy: 0.5575 \n",
            "Epoch 7: val_loss improved from 0.92255 to 0.90631, saving model to /content/drive/MyDrive/workspace/sarthak/complex_model.hdf5\n",
            "100/100 [==============================] - 1182s 12s/step - loss: 1.0274 - accuracy: 0.5575 - val_loss: 0.9063 - val_accuracy: 0.6150\n",
            "Epoch 8/10\n",
            "100/100 [==============================] - ETA: 0s - loss: 0.9822 - accuracy: 0.5703 \n",
            "Epoch 8: val_loss did not improve from 0.90631\n",
            "100/100 [==============================] - 1199s 12s/step - loss: 0.9822 - accuracy: 0.5703 - val_loss: 0.9163 - val_accuracy: 0.6062\n",
            "Epoch 9/10\n",
            "100/100 [==============================] - ETA: 0s - loss: 0.9308 - accuracy: 0.5978 \n",
            "Epoch 9: val_loss improved from 0.90631 to 0.75254, saving model to /content/drive/MyDrive/workspace/sarthak/complex_model.hdf5\n",
            "100/100 [==============================] - 1174s 12s/step - loss: 0.9308 - accuracy: 0.5978 - val_loss: 0.7525 - val_accuracy: 0.7025\n",
            "Epoch 10/10\n",
            "100/100 [==============================] - ETA: 0s - loss: 0.8404 - accuracy: 0.6431 \n",
            "Epoch 10: val_loss improved from 0.75254 to 0.71087, saving model to /content/drive/MyDrive/workspace/sarthak/complex_model.hdf5\n",
            "100/100 [==============================] - 1179s 12s/step - loss: 0.8404 - accuracy: 0.6431 - val_loss: 0.7109 - val_accuracy: 0.7200\n"
          ]
        }
      ],
      "source": [
        "history = model.fit(train_dataset, epochs=10, validation_data=test_dataset, verbose = 1, callbacks=callbacks_list)"
      ]
    },
    {
      "cell_type": "code",
      "execution_count": null,
      "metadata": {
        "colab": {
          "base_uri": "https://localhost:8080/"
        },
        "id": "M6tpPRbEU6Ss",
        "outputId": "c9e998c7-635d-4f22-a05a-ec577772d5f3"
      },
      "outputs": [
        {
          "name": "stdout",
          "output_type": "stream",
          "text": [
            "25/25 [==============================] - 32s 1s/step - loss: 0.7109 - accuracy: 0.7200\n",
            "Test accuracy 0.7200000286102295\n",
            "Test loss 0.7108709216117859\n"
          ]
        }
      ],
      "source": [
        " test_loss, test_acc = model.evaluate(test_dataset)\n",
        "print('Test accuracy',test_acc)\n",
        "print('Test loss',test_loss)"
      ]
    },
    {
      "cell_type": "markdown",
      "metadata": {
        "id": "4OxXxRZaaEzM"
      },
      "source": [
        "**Question 4**\n",
        "\n",
        "**Conv1D layers** can be particularly useful in (business) applications where there are:\n",
        "\n",
        "\n",
        "**Signal processing**: Conv1D layers can help in analyzing and processing audio signals, sensor data, and other one-dimensional signals.\n",
        "**Text analysis**: When it comes to images, the filters of a 2D convolution layer move across both the height and width dimensions. However, Conv1D only traverses a single axis, making it appropriate for applying convolution to sequential data, such as text or signals. Consequently, using Conv1D for these types of data makes perfect sense.\n",
        "\n",
        "\n",
        "**We should prefer a recurrent layer in situations where**:\n",
        "**Prediction problems**\n",
        "\n",
        "When it comes to solving prediction problems involving sequences, Recurrent Layers are typically very useful. Sequence prediction problems can take many forms and are typically characterized by the types of inputs and outputs that they involve.\n",
        "\n",
        "**Machine Translation**\n",
        "\n",
        "In the case of machine translation, some form of Recurrent Layer can be leveraged to translate text from one language to another. Almost all modern translation systems incorporate some advanced variant of a Recurrent Neural Network (RNN). In this setup, the source language can serve as the input, while the desired output will be the corresponding text in the target language."
      ]
    },
    {
      "cell_type": "markdown",
      "metadata": {
        "id": "73kpzlRgKL30"
      },
      "source": [
        "**Question 5**\n"
      ]
    },
    {
      "cell_type": "markdown",
      "metadata": {
        "id": "2dxv2X_TKL34"
      },
      "source": [
        "We are converting the time series data into 2D arrays (images) by splitting the data into parts and arranging them row-wise, as described in section 5.3 of the referenced paper. This allows us to analyze the relationship between nearby elements and extract relevant features from the data. Our task involves using data from two sensors collectively to identify if a fault has occurred, determine if both sensors were responsible or if a single sensor caused the fault, and identify which sensor that is. Therefore, arranging the data in a 2D array provides a comprehensive overview of the entire time series data, considering the significance of time in our case.\n",
        "\n",
        "Convolutional Neural Networks (CNNs) are well-suited for this approach as they can effectively identify differences between 2D arrays, enabling them to distinguish between different patterns or structures in the data. This makes CNNs preferable over RNN (Recurrent Neural Network) based models for our specific task. RNNs are typically used for sequential data where temporal order matters, such as sequence prediction or language modeling. However, in our case where spatial relationships between data points are essential, CNNs are more suitable.\n",
        "\n",
        "It is essential to carefully design the architecture of the CNN model, including the number of layers, filters, and other hyperparameters, to ensure optimal performance. Experimenting with different configurations and techniques, such as data augmentation, regularization, and optimization, can further enhance the performance of the CNN model for our specific task.\n",
        "\n"
      ]
    },
    {
      "cell_type": "markdown",
      "metadata": {
        "id": "Vaz5uCy1KL34"
      },
      "source": [
        "**Question 6** \n",
        "\n",
        "Converting the time series data into image using the same priciples used in section 5.3 of the paper"
      ]
    },
    {
      "cell_type": "code",
      "execution_count": null,
      "metadata": {
        "id": "lvtrzOITKL35"
      },
      "outputs": [],
      "source": [
        "# Importing library\n",
        "import tensorflow as tf\n",
        "import numpy as np\n",
        "import matplotlib.pyplot as plt\n",
        "import seaborn as sns\n",
        "import pickle\n",
        "\n",
        "physical_devices = tf.config.list_physical_devices('GPU')\n",
        "tf.config.experimental.set_memory_growth(physical_devices[0], True)\n",
        "\n",
        "tf.random.set_seed(42)"
      ]
    },
    {
      "cell_type": "code",
      "execution_count": null,
      "metadata": {
        "colab": {
          "base_uri": "https://localhost:8080/"
        },
        "id": "aVbRxrWKKL36",
        "outputId": "d1ea2efd-c1dd-42a8-903f-b3c38352a1bf"
      },
      "outputs": [
        {
          "name": "stdout",
          "output_type": "stream",
          "text": [
            "time series 1 shape:  (4000, 5000)\n",
            "time series 2 shape:  (4000, 5000)\n",
            "y shape:  (4000,)\n"
          ]
        }
      ],
      "source": [
        "# load the data\n",
        "with open('/time_series_1.pickle', 'rb') as handle:\n",
        "    time_series_1 = pickle.load(handle)\n",
        "    \n",
        "with open('/time_series_2.pickle', 'rb') as handle:\n",
        "    time_series_2 = pickle.load(handle)\n",
        "    \n",
        "with open('/y.pickle', 'rb') as handle:\n",
        "    y = pickle.load(handle)\n",
        "    \n",
        "print('time series 1 shape: ', time_series_1.shape)\n",
        "print('time series 2 shape: ', time_series_2.shape)\n",
        "print('y shape: ', y.shape)"
      ]
    },
    {
      "cell_type": "code",
      "execution_count": null,
      "metadata": {
        "id": "V76mMHtWKL37"
      },
      "outputs": [],
      "source": [
        "# Converting the time series data set into a 2d image\n",
        "# Defining a function for that\n",
        "def image_2d(split: tuple, time_series_1=time_series_1, time_series_2=time_series_2):\n",
        "    \"\"\"\n",
        "    This function converts the time series data into a 2d array\n",
        "    Input -\n",
        "    - split - Speciify how to split 5000 time series (height, width)\n",
        "    - time_series_1 = 1st time series data\n",
        "    - time_series_2 = 2nd time series data\n",
        "    \n",
        "    Output - \n",
        "    - image_data - Final data of time series converted to 2d array.\n",
        "    \n",
        "    \"\"\"\n",
        "    \n",
        "    height = split[0]\n",
        "    width = split[1]\n",
        "    \n",
        "    image_data = np.zeros((time_series_1.shape[0], height, width*2, 1))\n",
        "    for i in range(time_series_1.shape[0]):\n",
        "        time1, time2 = time_series_1[i], time_series_2[i]\n",
        "        image_data[i, :height, :width, 0] = time1.reshape(height, width)\n",
        "        image_data[i, :height, width:width*2, 0] = time2.reshape(height, width)\n",
        "    \n",
        "    \n",
        "    return image_data"
      ]
    },
    {
      "cell_type": "code",
      "execution_count": null,
      "metadata": {
        "colab": {
          "base_uri": "https://localhost:8080/",
          "height": 450
        },
        "id": "uCbnzSeuKL38",
        "outputId": "fa03453f-80a6-46b0-d204-c0a499a657da"
      },
      "outputs": [
        {
          "name": "stdout",
          "output_type": "stream",
          "text": [
            "(4000, 100, 100, 1)\n"
          ]
        },
        {
          "data": {
            "image/png": "[encoded data removed]",
            "text/plain": [
              "<Figure size 640x480 with 1 Axes>"
            ]
          },
          "metadata": {},
          "output_type": "display_data"
        }
      ],
      "source": [
        "# Using the above function to generate data with 50, 100 split ie. first 50 data points will in a row.\n",
        "# Similar approach was used in the paper\n",
        "images = image_2d((100,50))\n",
        "\n",
        "# Printing the shape of final data for cross checking\n",
        "print(images.shape)\n",
        "\n",
        "# Plotting a sample image\n",
        "plt.imshow(images[0], cmap='gray')\n",
        "plt.show()"
      ]
    },
    {
      "cell_type": "code",
      "execution_count": null,
      "metadata": {
        "colab": {
          "base_uri": "https://localhost:8080/"
        },
        "id": "ug8wgU5KKL38",
        "outputId": "f09ad00b-2905-4b3c-f5be-e3086d18b9c0"
      },
      "outputs": [
        {
          "name": "stdout",
          "output_type": "stream",
          "text": [
            "[0. 1. 2. 3.]\n"
          ]
        }
      ],
      "source": [
        "# Now mapping the class labels to a dictionary\n",
        "print(np.unique(y))\n",
        "\n",
        "class_map = {0:'healthy',\n",
        "             1:'generator',\n",
        "             2:'pict angle',\n",
        "             3:'both'}"
      ]
    },
    {
      "cell_type": "code",
      "execution_count": null,
      "metadata": {
        "colab": {
          "base_uri": "https://localhost:8080/"
        },
        "id": "J6M9bOhDKL39",
        "outputId": "ce901622-d91d-4985-db15-ebeaa0061139"
      },
      "outputs": [
        {
          "data": {
            "text/plain": [
              "(array([0., 1., 2., 3.]), array([1000, 1000, 1000, 1000]))"
            ]
          },
          "execution_count": 7,
          "metadata": {},
          "output_type": "execute_result"
        }
      ],
      "source": [
        "# Checking the class balance\n",
        "np.unique(y, return_counts=True)"
      ]
    },
    {
      "cell_type": "code",
      "execution_count": null,
      "metadata": {
        "id": "qv19TI52KL39"
      },
      "outputs": [],
      "source": [
        "# Converting the data into tf.data.Dataset format\n",
        "import tensorflow as tf\n",
        "from sklearn.model_selection import train_test_split\n",
        "\n",
        "# Define the number of classes\n",
        "num_classes = 4\n",
        "\n",
        "# Convert the integer class labels to one-hot encoded categorical representation\n",
        "y_categorical = tf.keras.utils.to_categorical(y, num_classes=num_classes)\n",
        "\n",
        "# Split the data into training and testing sets\n",
        "train_images, test_images, train_targets, test_targets = train_test_split(images, y_categorical, \n",
        "                                                                        test_size=0.2, random_state=42, stratify=y_categorical)\n",
        "\n",
        "# Split the data into training and validation sets\n",
        "train_images, val_images, train_targets, val_targets = train_test_split(train_images, train_targets, \n",
        "                                                                        test_size=0.2, random_state=42, stratify=train_targets)\n",
        "\n",
        "# Create TensorFlow dataset from the training data\n",
        "train_dataset = tf.data.Dataset.from_tensor_slices((train_images, train_targets))\n",
        "\n",
        "# Create TensorFlow dataset from the validation data\n",
        "val_dataset = tf.data.Dataset.from_tensor_slices((val_images, val_targets))\n",
        "\n",
        "# Create TensorFlow dataset from the testing data\n",
        "test_dataset = tf.data.Dataset.from_tensor_slices((test_images, test_targets))\n",
        "\n",
        "# Define batch size and shuffle buffer size for training dataset\n",
        "batch_size = 8\n",
        "shuffle_buffer_size = 1000\n",
        "\n",
        "# Shuffle and batch the training dataset\n",
        "train_dataset = train_dataset.shuffle(shuffle_buffer_size).batch(batch_size)\n",
        "\n",
        "# Batch the validation dataset\n",
        "val_dataset = val_dataset.batch(batch_size)\n",
        "\n",
        "# Batch the testing dataset\n",
        "test_dataset = test_dataset.batch(batch_size)"
      ]
    },
    {
      "cell_type": "markdown",
      "metadata": {
        "id": "x9QKmd4KKL3-"
      },
      "source": [
        "**Question 7**"
      ]
    },
    {
      "cell_type": "code",
      "execution_count": null,
      "metadata": {
        "id": "CxeLS1gsKL3-"
      },
      "outputs": [],
      "source": [
        "# Creating the model\n",
        "def create_model():\n",
        "    # Initialize a Sequential model\n",
        "    model = tf.keras.Sequential()\n",
        "    \n",
        "    # Add a 2D convolutional layer's with 32 filters, a 3x3 kernel size, and 'same' padding\n",
        "    model.add(tf.keras.layers.Conv2D(32, (3, 3), padding='same', input_shape=(100,100,1)))\n",
        "    model.add(tf.keras.layers.Conv2D(32, (3, 3), padding='same'))\n",
        "    \n",
        "    # 20% dropout layer to prevent overfitting\n",
        "    model.add(tf.keras.layers.Dropout(0.2))\n",
        "    \n",
        "    # 2D convolutional layer with 16 filters and a 3x3 kernel size\n",
        "    model.add(tf.keras.layers.Conv2D(16, (3, 3), padding='same', activation='relu'))\n",
        "    \n",
        "    # ReLU activation layer\n",
        "    model.add(tf.keras.layers.Activation('relu'))\n",
        "    \n",
        "    # 3x3 max pooling layer to reduce the spatial dimensions of the feature maps\n",
        "    model.add(tf.keras.layers.MaxPooling2D((3, 3), padding='same'))\n",
        "    \n",
        "    # Flatten the feature maps into a 1D vector\n",
        "    model.add(tf.keras.layers.Flatten())\n",
        "    \n",
        "    # fully connected hidden layer with 10 units and ReLU activation\n",
        "    model.add(tf.keras.layers.Dense(100, activation='relu'))\n",
        "    \n",
        "    # output layer with 4 units and softmax activation for multiclass classification\n",
        "    model.add(tf.keras.layers.Dense(4, activation='softmax'))\n",
        "    \n",
        "    return model"
      ]
    },
    {
      "cell_type": "code",
      "execution_count": null,
      "metadata": {
        "colab": {
          "base_uri": "https://localhost:8080/"
        },
        "id": "JI_qWAdpKL3_",
        "outputId": "2243d5ef-6087-4b3b-9ff0-01024e59e7ac"
      },
      "outputs": [
        {
          "name": "stdout",
          "output_type": "stream",
          "text": [
            "Model: \"sequential\"\n",
            "_________________________________________________________________\n",
            " Layer (type)                Output Shape              Param #   \n",
            "=================================================================\n",
            " conv2d (Conv2D)             (None, 100, 100, 32)      320       \n",
            "                                                                 \n",
            " conv2d_1 (Conv2D)           (None, 100, 100, 32)      9248      \n",
            "                                                                 \n",
            " dropout (Dropout)           (None, 100, 100, 32)      0         \n",
            "                                                                 \n",
            " conv2d_2 (Conv2D)           (None, 100, 100, 16)      4624      \n",
            "                                                                 \n",
            " activation (Activation)     (None, 100, 100, 16)      0         \n",
            "                                                                 \n",
            " max_pooling2d (MaxPooling2D  (None, 34, 34, 16)       0         \n",
            " )                                                               \n",
            "                                                                 \n",
            " flatten (Flatten)           (None, 18496)             0         \n",
            "                                                                 \n",
            " dense (Dense)               (None, 100)               1849700   \n",
            "                                                                 \n",
            " dense_1 (Dense)             (None, 4)                 404       \n",
            "                                                                 \n",
            "=================================================================\n",
            "Total params: 1,864,296\n",
            "Trainable params: 1,864,296\n",
            "Non-trainable params: 0\n",
            "_________________________________________________________________\n"
          ]
        }
      ],
      "source": [
        "q6_cnn_model = create_model()\n",
        "\n",
        "# Compling the model\\\n",
        "q6_cnn_model.compile(optimizer=tf.keras.optimizers.Adam(), loss='categorical_crossentropy', metrics=['accuracy'])\n",
        "\n",
        "# Define early stopping callback with a patience of 5 epochs\n",
        "early_stop = tf.keras.callbacks.EarlyStopping(monitor='val_loss', patience=5)\n",
        "\n",
        "# Define model checkpoint callback to save the best model based on validation accuracy\n",
        "model_checkpoint = tf.keras.callbacks.ModelCheckpoint('best_model.h5', monitor='val_accuracy', save_best_only=True)\n",
        "\n",
        "# Define a list of callbacks to be used during training\n",
        "callbacks_list = [early_stop, model_checkpoint]\n",
        "\n",
        "# Checking the model\n",
        "q6_cnn_model.summary()\n",
        "\n"
      ]
    },
    {
      "cell_type": "code",
      "execution_count": null,
      "metadata": {
        "colab": {
          "base_uri": "https://localhost:8080/"
        },
        "id": "iDVWg8H8KL3_",
        "outputId": "1e78cf5f-01d1-4fff-ee53-c9d43ad2f828"
      },
      "outputs": [
        {
          "name": "stdout",
          "output_type": "stream",
          "text": [
            "Epoch 1/20\n",
            "320/320 [==============================] - 15s 10ms/step - loss: 9.5543 - accuracy: 0.5414 - val_loss: 0.4627 - val_accuracy: 0.8078\n",
            "Epoch 2/20\n",
            "320/320 [==============================] - 3s 10ms/step - loss: 0.3168 - accuracy: 0.8648 - val_loss: 0.3574 - val_accuracy: 0.8766\n",
            "Epoch 3/20\n",
            "320/320 [==============================] - 3s 10ms/step - loss: 0.2783 - accuracy: 0.8742 - val_loss: 0.3079 - val_accuracy: 0.8797\n",
            "Epoch 4/20\n",
            "320/320 [==============================] - 3s 10ms/step - loss: 0.2501 - accuracy: 0.8852 - val_loss: 0.3018 - val_accuracy: 0.8938\n",
            "Epoch 5/20\n",
            "320/320 [==============================] - 4s 11ms/step - loss: 0.2485 - accuracy: 0.8887 - val_loss: 0.2965 - val_accuracy: 0.8891\n",
            "Epoch 6/20\n",
            "320/320 [==============================] - 3s 9ms/step - loss: 0.2417 - accuracy: 0.8875 - val_loss: 0.2711 - val_accuracy: 0.8828\n",
            "Epoch 7/20\n",
            "320/320 [==============================] - 3s 9ms/step - loss: 0.2420 - accuracy: 0.8918 - val_loss: 0.2980 - val_accuracy: 0.8719\n",
            "Epoch 8/20\n",
            "320/320 [==============================] - 3s 9ms/step - loss: 0.2429 - accuracy: 0.8863 - val_loss: 0.2896 - val_accuracy: 0.8922\n",
            "Epoch 9/20\n",
            "320/320 [==============================] - 3s 10ms/step - loss: 0.2367 - accuracy: 0.8945 - val_loss: 0.2636 - val_accuracy: 0.8938\n",
            "Epoch 10/20\n",
            "320/320 [==============================] - 3s 9ms/step - loss: 0.2296 - accuracy: 0.8938 - val_loss: 0.2827 - val_accuracy: 0.8859\n",
            "Epoch 11/20\n",
            "320/320 [==============================] - 3s 9ms/step - loss: 0.2277 - accuracy: 0.8961 - val_loss: 0.3022 - val_accuracy: 0.8828\n",
            "Epoch 12/20\n",
            "320/320 [==============================] - 3s 9ms/step - loss: 0.2290 - accuracy: 0.8910 - val_loss: 0.3232 - val_accuracy: 0.8938\n",
            "Epoch 13/20\n",
            "320/320 [==============================] - 3s 9ms/step - loss: 0.2311 - accuracy: 0.8934 - val_loss: 0.2765 - val_accuracy: 0.8828\n",
            "Epoch 14/20\n",
            "320/320 [==============================] - 3s 9ms/step - loss: 0.2259 - accuracy: 0.8938 - val_loss: 0.3108 - val_accuracy: 0.8859\n"
          ]
        }
      ],
      "source": [
        "# Training the model\n",
        "history = q6_cnn_model.fit(train_dataset, epochs=20, validation_data=val_dataset, callbacks=callbacks_list)"
      ]
    },
    {
      "cell_type": "code",
      "execution_count": null,
      "metadata": {
        "colab": {
          "base_uri": "https://localhost:8080/",
          "height": 927
        },
        "id": "tT6I9GB-KL3_",
        "outputId": "09899e5e-d3c6-41e2-c9c3-624d6b19239a"
      },
      "outputs": [
        {
          "data": {
            "image/png": "[encoded data removed]",
            "text/plain": [
              "<Figure size 640x480 with 1 Axes>"
            ]
          },
          "metadata": {},
          "output_type": "display_data"
        },
        {
          "data": {
            "image/png": "[encoded data removed]",
            "text/plain": [
              "<Figure size 640x480 with 1 Axes>"
            ]
          },
          "metadata": {},
          "output_type": "display_data"
        }
      ],
      "source": [
        "\n",
        "# Plot the training and validation accuracy\n",
        "plt.plot(history.history['accuracy'])\n",
        "plt.plot(history.history['val_accuracy'])\n",
        "plt.title('Model accuracy')\n",
        "plt.ylabel('Accuracy')\n",
        "plt.xlabel('Epoch')\n",
        "plt.legend(['Train', 'Validation'], loc='upper left')\n",
        "plt.show()\n",
        "\n",
        "# Plot the training and validation loss\n",
        "plt.plot(history.history['loss'])\n",
        "plt.plot(history.history['val_loss'])\n",
        "plt.title('Model loss')\n",
        "plt.ylabel('Loss')\n",
        "plt.xlabel('Epoch')\n",
        "plt.legend(['Train', 'Validation'], loc='upper left')\n",
        "plt.show()"
      ]
    },
    {
      "cell_type": "code",
      "execution_count": null,
      "metadata": {
        "colab": {
          "base_uri": "https://localhost:8080/"
        },
        "id": "IlQukTMWKL4A",
        "outputId": "234a73a8-7b21-445c-e69f-b72e7cf87c9e"
      },
      "outputs": [
        {
          "name": "stdout",
          "output_type": "stream",
          "text": [
            "Accuracy: 0.9012\n"
          ]
        }
      ],
      "source": [
        "def get_accuracy(model, dataset):\n",
        "    # Initialize variables for calculating accuracy\n",
        "    total_examples = 0\n",
        "    correct_predictions = 0\n",
        "\n",
        "    # Iterate over the dataset\n",
        "    for x, y in dataset:\n",
        "        # Use the model to make predictions\n",
        "        y_pred = model.predict(x, verbose=0)\n",
        "        # Calculate the number of correct predictions\n",
        "        correct_predictions += tf.math.count_nonzero(tf.equal(tf.argmax(y, axis=1), tf.argmax(y_pred, axis=1)))\n",
        "        # Update the total number of examples\n",
        "        total_examples += x.shape[0]\n",
        "\n",
        "    # Calculate the accuracy\n",
        "    accuracy = correct_predictions / total_examples\n",
        "\n",
        "    # Print the accuracy\n",
        "    print(f\"Accuracy: {accuracy:.4f}\")\n",
        "    \n",
        "get_accuracy(q6_cnn_model, test_dataset)"
      ]
    },
    {
      "cell_type": "markdown",
      "metadata": {
        "id": "AMQ4MHX9KL4A"
      },
      "source": [
        "Final Test Accuracy is 90.12%"
      ]
    },
    {
      "cell_type": "markdown",
      "metadata": {
        "id": "Z3TZbwSgKL4A"
      },
      "source": [
        "**Question 8**"
      ]
    },
    {
      "cell_type": "code",
      "execution_count": null,
      "metadata": {
        "id": "N94xeemXKL4A"
      },
      "outputs": [],
      "source": [
        "# Creating the model\n",
        "def create_model_q8():\n",
        "    # Initialize a Sequential model\n",
        "    model = tf.keras.Sequential()\n",
        "    \n",
        "    # Add a 2D convolutional layer's with 32 filters, a 3x3 kernel size, and 'same' padding\n",
        "    model.add(tf.keras.layers.Conv2D(256, (3, 3), padding='same', activation='relu',input_shape=(100,100,1)))\n",
        "    \n",
        "    model.add(tf.keras.layers.Conv2D(64, (3, 3), padding='same', activation='relu'))\n",
        "    \n",
        "    model.add(tf.keras.layers.Dropout(0.3))\n",
        "    \n",
        "    model.add(tf.keras.layers.Conv2D(32, (3, 3), padding='same', activation='relu'))\n",
        "    model.add(tf.keras.layers.Conv2D(16, (3, 3), padding='same', activation='relu'))\n",
        "    model.add(tf.keras.layers.MaxPooling2D((3, 3)))\n",
        "    \n",
        "    # Flatten the feature maps into a 1D vector\n",
        "    model.add(tf.keras.layers.Flatten())\n",
        "    \n",
        "    # fully connected hidden layer with 10 units and ReLU activation\n",
        "    model.add(tf.keras.layers.Dense(100, activation='relu'))\n",
        "    \n",
        "    # output layer with 4 units and softmax activation for multiclass classification\n",
        "    model.add(tf.keras.layers.Dense(4, activation='softmax'))\n",
        "    \n",
        "    return model"
      ]
    },
    {
      "cell_type": "code",
      "execution_count": null,
      "metadata": {
        "colab": {
          "base_uri": "https://localhost:8080/"
        },
        "id": "bUEm8ZWnKL4A",
        "outputId": "200c6c30-9db5-409e-9e11-016b2d3daf9c"
      },
      "outputs": [
        {
          "name": "stdout",
          "output_type": "stream",
          "text": [
            "Model: \"sequential_1\"\n",
            "_________________________________________________________________\n",
            " Layer (type)                Output Shape              Param #   \n",
            "=================================================================\n",
            " conv2d_3 (Conv2D)           (None, 100, 100, 256)     2560      \n",
            "                                                                 \n",
            " conv2d_4 (Conv2D)           (None, 100, 100, 64)      147520    \n",
            "                                                                 \n",
            " dropout_1 (Dropout)         (None, 100, 100, 64)      0         \n",
            "                                                                 \n",
            " conv2d_5 (Conv2D)           (None, 100, 100, 32)      18464     \n",
            "                                                                 \n",
            " conv2d_6 (Conv2D)           (None, 100, 100, 16)      4624      \n",
            "                                                                 \n",
            " max_pooling2d_1 (MaxPooling  (None, 33, 33, 16)       0         \n",
            " 2D)                                                             \n",
            "                                                                 \n",
            " flatten_1 (Flatten)         (None, 17424)             0         \n",
            "                                                                 \n",
            " dense_2 (Dense)             (None, 100)               1742500   \n",
            "                                                                 \n",
            " dense_3 (Dense)             (None, 4)                 404       \n",
            "                                                                 \n",
            "=================================================================\n",
            "Total params: 1,916,072\n",
            "Trainable params: 1,916,072\n",
            "Non-trainable params: 0\n",
            "_________________________________________________________________\n"
          ]
        }
      ],
      "source": [
        "q8_cnn_model = create_model_q8()\n",
        "\n",
        "# Define the learning rate schedule\n",
        "lr_schedule = tf.keras.optimizers.schedules.ExponentialDecay(\n",
        "    initial_learning_rate=1e-3,  # Initial learning rate\n",
        "    decay_steps=1000,            # Number of steps between each decay\n",
        "    decay_rate=0.96              # Decay rate\n",
        ")\n",
        "\n",
        "# Create an Adam optimizer with the learning rate schedule\n",
        "optimizer = tf.keras.optimizers.Adam(learning_rate=lr_schedule)\n",
        "\n",
        "# Compling the model\n",
        "q8_cnn_model.compile(optimizer=optimizer, loss='categorical_crossentropy', metrics=['accuracy'])\n",
        "\n",
        "# Define early stopping callback with a patience of 5 epochs\n",
        "early_stop = tf.keras.callbacks.EarlyStopping(monitor='val_loss', patience=5)\n",
        "\n",
        "# Define model checkpoint callback to save the best model based on validation accuracy\n",
        "model_checkpoint = tf.keras.callbacks.ModelCheckpoint('best_model_q8.h5', monitor='val_accuracy', save_best_only=True)\n",
        "\n",
        "# Define a list of callbacks to be used during training\n",
        "callbacks_list = [early_stop, model_checkpoint]\n",
        "\n",
        "# Checking the model\n",
        "q8_cnn_model.summary()\n",
        "\n"
      ]
    },
    {
      "cell_type": "code",
      "execution_count": null,
      "metadata": {
        "colab": {
          "base_uri": "https://localhost:8080/"
        },
        "id": "bEzNqVGhKL4B",
        "outputId": "35f46d58-d1d6-4564-9764-c7f8f048e8ce"
      },
      "outputs": [
        {
          "name": "stdout",
          "output_type": "stream",
          "text": [
            "Epoch 1/20\n",
            "320/320 [==============================] - 10s 30ms/step - loss: 0.2359 - accuracy: 0.8977 - val_loss: 0.2727 - val_accuracy: 0.8938\n",
            "Epoch 2/20\n",
            "320/320 [==============================] - 10s 30ms/step - loss: 0.2291 - accuracy: 0.8918 - val_loss: 0.2534 - val_accuracy: 0.8922\n",
            "Epoch 3/20\n",
            "320/320 [==============================] - 10s 30ms/step - loss: 0.2326 - accuracy: 0.8914 - val_loss: 0.2657 - val_accuracy: 0.8953\n",
            "Epoch 4/20\n",
            "320/320 [==============================] - 10s 30ms/step - loss: 0.2205 - accuracy: 0.8930 - val_loss: 0.3218 - val_accuracy: 0.8797\n",
            "Epoch 5/20\n",
            "320/320 [==============================] - 10s 31ms/step - loss: 0.2244 - accuracy: 0.8926 - val_loss: 0.2752 - val_accuracy: 0.8922\n",
            "Epoch 6/20\n",
            "320/320 [==============================] - 10s 30ms/step - loss: 0.2249 - accuracy: 0.8965 - val_loss: 0.2870 - val_accuracy: 0.8953\n",
            "Epoch 7/20\n",
            "320/320 [==============================] - 10s 30ms/step - loss: 0.2266 - accuracy: 0.8938 - val_loss: 0.2706 - val_accuracy: 0.8875\n"
          ]
        }
      ],
      "source": [
        "# Training the model\n",
        "history = q8_cnn_model.fit(train_dataset, epochs=20, validation_data=val_dataset, callbacks=callbacks_list)"
      ]
    },
    {
      "cell_type": "code",
      "execution_count": null,
      "metadata": {
        "colab": {
          "base_uri": "https://localhost:8080/",
          "height": 927
        },
        "id": "sxBY_nNiKL4B",
        "outputId": "cc093f76-38e1-4d87-c993-4057eaa6348c"
      },
      "outputs": [
        {
          "data": {
            "image/png": "[encoded data removed]",
            "text/plain": [
              "<Figure size 640x480 with 1 Axes>"
            ]
          },
          "metadata": {},
          "output_type": "display_data"
        },
        {
          "data": {
            "image/png": "[encoded data removed]",
            "text/plain": [
              "<Figure size 640x480 with 1 Axes>"
            ]
          },
          "metadata": {},
          "output_type": "display_data"
        }
      ],
      "source": [
        "\n",
        "# Plot the training and validation accuracy\n",
        "plt.plot(history.history['accuracy'])\n",
        "plt.plot(history.history['val_accuracy'])\n",
        "plt.title('Model accuracy')\n",
        "plt.ylabel('Accuracy')\n",
        "plt.xlabel('Epoch')\n",
        "plt.legend(['Train', 'Validation'], loc='upper left')\n",
        "plt.show()\n",
        "\n",
        "# Plot the training and validation loss\n",
        "plt.plot(history.history['loss'])\n",
        "plt.plot(history.history['val_loss'])\n",
        "plt.title('Model loss')\n",
        "plt.ylabel('Loss')\n",
        "plt.xlabel('Epoch')\n",
        "plt.legend(['Train', 'Validation'], loc='upper left')\n",
        "plt.show()"
      ]
    },
    {
      "cell_type": "code",
      "execution_count": null,
      "metadata": {
        "colab": {
          "base_uri": "https://localhost:8080/"
        },
        "id": "LnR3ZMUmKL4B",
        "outputId": "7a35f505-bd02-412f-d644-0842e89bef62"
      },
      "outputs": [
        {
          "name": "stdout",
          "output_type": "stream",
          "text": [
            "Accuracy: 0.9038\n"
          ]
        }
      ],
      "source": [
        "get_accuracy(q8_cnn_model, test_dataset)"
      ]
    },
    {
      "cell_type": "markdown",
      "metadata": {
        "id": "eRww-uwlKL4B"
      },
      "source": [
        "The final Test accuracy of the Modified Model is 90.38%"
      ]
    },
    {
      "cell_type": "markdown",
      "metadata": {
        "id": "aJ7T-d-hKL4C"
      },
      "source": [
        "**Question 9**"
      ]
    },
    {
      "attachments": {},
      "cell_type": "markdown",
      "metadata": {
        "id": "K2SylXArKL4C"
      },
      "source": [
        "- Comparing the accuracy for the test set in both the model the second model performs slightly better at 90.38% compared to 90.12%. Though this is not a huge increase in a real world scenario it might produce slightly bettter results.\n",
        "\n",
        "- Choosing the second model is more beneficial because second model is also more complex than the first model so it capable to learning better and more intricate features and relations than the first model. This should help us in a production or real world scenario by helping us to keep the model stable in terms of the result it generates. \n",
        "\n",
        "- The complexity of the model also helps in the future if we want to train it using newlly collected data.\n",
        "\n",
        "- The only disadvantage of the second model is that it requires more compute power to run because it has more parameters than the first model, so running this model may be slightly more expensive.\n",
        "\n"
      ]
    }
  ],
  "metadata": {
    "colab": {
      "gpuType": "T4",
      "provenance": []
    },
    "gpuClass": "standard",
    "kernelspec": {
      "display_name": "Python 3",
      "name": "python3"
    },
    "language_info": {
      "name": "python"
    }
  },
  "nbformat": 4,
  "nbformat_minor": 0
}
